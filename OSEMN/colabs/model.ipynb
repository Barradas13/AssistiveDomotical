{
  "nbformat": 4,
  "nbformat_minor": 0,
  "metadata": {
    "colab": {
      "provenance": []
    },
    "kernelspec": {
      "name": "python3",
      "display_name": "Python 3"
    },
    "language_info": {
      "name": "python"
    }
  },
  "cells": [
    {
      "cell_type": "code",
      "source": [
        "import pandas as pd\n",
        "import numpy as np\n",
        "from sklearn.model_selection import train_test_split\n",
        "from sklearn.tree import DecisionTreeClassifier\n",
        "from sklearn.metrics import confusion_matrix, ConfusionMatrixDisplay\n",
        "import matplotlib.pyplot as plt\n"
      ],
      "metadata": {
        "id": "SrvK0aepQJOd"
      },
      "execution_count": null,
      "outputs": []
    },
    {
      "cell_type": "code",
      "source": [
        "df_bruno = pd.read_csv(\"/home/barradas/Downloads/AssistiveDomotical/OSEMN/scrub/tabelas_pessoa_pos_tratamento/bruno.csv\")\n",
        "df_erik = pd.read_csv(\"/home/barradas/Downloads/AssistiveDomotical/OSEMN/scrub/tabelas_pessoa_pos_tratamento/erik.csv\")\n",
        "df_felipe = pd.read_csv(\"/home/barradas/Downloads/AssistiveDomotical/OSEMN/scrub/tabelas_pessoa_pos_tratamento/felipe.csv\")\n",
        "df_guilherme = pd.read_csv(\"/home/barradas/Downloads/AssistiveDomotical/OSEMN/scrub/tabelas_pessoa_pos_tratamento/guilherme.csv\")\n",
        "df_jao = pd.read_csv(\"/home/barradas/Downloads/AssistiveDomotical/OSEMN/scrub/tabelas_pessoa_pos_tratamento/jao.csv\")\n",
        "df_jose = pd.read_csv(\"/home/barradas/Downloads/AssistiveDomotical/OSEMN/scrub/tabelas_pessoa_pos_tratamento/jose.csv\")\n",
        "df_lo = pd.read_csv(\"/home/barradas/Downloads/AssistiveDomotical/OSEMN/scrub/tabelas_pessoa_pos_tratamento/lo.csv\")"
      ],
      "metadata": {
        "id": "a-zNgZM2Qanu"
      },
      "execution_count": null,
      "outputs": []
    },
    {
      "cell_type": "code",
      "source": [
        "# Lista de dataframes\n",
        "dfs = [\n",
        "    df_bruno, df_erik, df_felipe, df_guilherme, df_jao, df_jose, df_lo\n",
        "]\n",
        "\n",
        "# Normaliza coluna \"piscando\" para 0 e 1\n",
        "for i in dfs:\n",
        "    i[\"piscando\"] = i[\"piscando\"].map({False: 0, True: 1})\n"
      ],
      "metadata": {
        "id": "TXvy3V26Qd5c"
      },
      "execution_count": null,
      "outputs": []
    },
    {
      "cell_type": "code",
      "source": [
        "cm_total = np.zeros((2,2))\n",
        "\n",
        "for idx, df_test in enumerate(dfs):\n",
        "    df_train = pd.concat([df for j, df in enumerate(dfs) if j != idx], ignore_index=True)\n",
        "\n",
        "    X_train = df_train[[\"ear1\",\"ear2\",\"ear3\",\"ear4\",\"ear5\"]]\n",
        "    y_train = df_train[\"piscando\"]\n",
        "\n",
        "    X_test = df_test[[\"ear1\",\"ear2\",\"ear3\",\"ear4\",\"ear5\"]]\n",
        "    y_test = df_test[\"piscando\"]\n",
        "\n",
        "    model = DecisionTreeClassifier(random_state=42)\n",
        "    model.fit(X_train, y_train)\n",
        "\n",
        "    y_pred = model.predict(X_test)\n",
        "\n",
        "    cm = confusion_matrix(y_test, y_pred)\n",
        "    cm_total += cm\n"
      ],
      "metadata": {
        "id": "1eVmuP0vQiBu"
      },
      "execution_count": null,
      "outputs": []
    },
    {
      "cell_type": "code",
      "source": [
        "disp = ConfusionMatrixDisplay(confusion_matrix=cm_total, display_labels=[0,1])\n",
        "disp.plot()\n",
        "plt.title(\"Matriz de Confusão Média\")\n",
        "plt.show()"
      ],
      "metadata": {
        "id": "_DGqQ2xmQpEA"
      },
      "execution_count": null,
      "outputs": []
    }
  ]
}
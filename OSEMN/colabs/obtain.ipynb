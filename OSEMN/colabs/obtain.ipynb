{
  "cells": [
    {
      "cell_type": "code",
      "execution_count": 1,
      "metadata": {
        "id": "JwAyX1OpvB8q",
        "colab": {
          "base_uri": "https://localhost:8080/",
          "height": 383
        },
        "outputId": "f762835a-3631-4148-c491-fd2f76d16731"
      },
      "outputs": [
        {
          "output_type": "error",
          "ename": "ModuleNotFoundError",
          "evalue": "No module named 'pynput'",
          "traceback": [
            "\u001b[0;31m---------------------------------------------------------------------------\u001b[0m",
            "\u001b[0;31mModuleNotFoundError\u001b[0m                       Traceback (most recent call last)",
            "\u001b[0;32m/tmp/ipython-input-120247696.py\u001b[0m in \u001b[0;36m<cell line: 0>\u001b[0;34m()\u001b[0m\n\u001b[1;32m      2\u001b[0m \u001b[0;34m\u001b[0m\u001b[0m\n\u001b[1;32m      3\u001b[0m \u001b[0;32mimport\u001b[0m \u001b[0mcv2\u001b[0m\u001b[0;34m\u001b[0m\u001b[0;34m\u001b[0m\u001b[0m\n\u001b[0;32m----> 4\u001b[0;31m \u001b[0;32mfrom\u001b[0m \u001b[0mpynput\u001b[0m \u001b[0;32mimport\u001b[0m \u001b[0mkeyboard\u001b[0m\u001b[0;34m\u001b[0m\u001b[0;34m\u001b[0m\u001b[0m\n\u001b[0m\u001b[1;32m      5\u001b[0m \u001b[0;34m\u001b[0m\u001b[0m\n\u001b[1;32m      6\u001b[0m \u001b[0;31m# Variável global que marca se 'a' está sendo pressionado\u001b[0m\u001b[0;34m\u001b[0m\u001b[0;34m\u001b[0m\u001b[0m\n",
            "\u001b[0;31mModuleNotFoundError\u001b[0m: No module named 'pynput'",
            "",
            "\u001b[0;31m---------------------------------------------------------------------------\u001b[0;32m\nNOTE: If your import is failing due to a missing package, you can\nmanually install dependencies using either !pip or !apt.\n\nTo view examples of installing some common dependencies, click the\n\"Open Examples\" button below.\n\u001b[0;31m---------------------------------------------------------------------------\u001b[0m\n"
          ],
          "errorDetails": {
            "actions": [
              {
                "action": "open_url",
                "actionText": "Open Examples",
                "url": "/notebooks/snippets/importing_libraries.ipynb"
              }
            ]
          }
        }
      ],
      "source": [
        "# O código a seguir será a criação dos videos de metadados, o princípio para a criação dos dados a serem analisados\n",
        "\n",
        "import cv2\n",
        "from pynput import keyboard\n",
        "\n",
        "# Variável global que marca se 'a' está sendo pressionado\n",
        "a_pressionado = False\n",
        "\n",
        "# Função chamada quando uma tecla é pressionada\n",
        "def ao_pressionar(tecla):\n",
        "    global a_pressionado\n",
        "    try:\n",
        "        if tecla.char == 'a':\n",
        "            a_pressionado = True\n",
        "    except AttributeError:\n",
        "        pass\n",
        "\n",
        "# Função chamada quando uma tecla é solta\n",
        "def ao_soltada(tecla):\n",
        "    global a_pressionado\n",
        "    try:\n",
        "        if tecla.char == 'a':\n",
        "            a_pressionado = False\n",
        "    except AttributeError:\n",
        "        pass\n",
        "\n",
        "# Inicia o listener do teclado\n",
        "listener = keyboard.Listener(on_press=ao_pressionar, on_release=ao_soltada)\n",
        "listener.start()\n",
        "\n",
        "# Captura de vídeo\n",
        "cap = cv2.VideoCapture(0)\n",
        "frame_width = int(cap.get(3))\n",
        "frame_height = int(cap.get(4))\n",
        "fps = 20\n",
        "codec = cv2.VideoWriter_fourcc(*'mp4v')\n",
        "\n",
        "out = cv2.VideoWriter(\n",
        "    r\"C:\\Users\\claudio.barradas\\PycharmProjects\\Domotic\\teste\\AssistiveDomotical\\videos\\felipe.mp4\",\n",
        "    codec, fps, (frame_width, frame_height)\n",
        ")\n",
        "\n",
        "\n",
        "print(\"Gravando... Segure 'a' para ponto verde. Pressione 'q' para sair.\")\n",
        "\n",
        "while True:\n",
        "    ret, frame = cap.read()\n",
        "    if not ret:\n",
        "        break\n",
        "\n",
        "    # Desenha o ponto com a cor baseada na variável global\n",
        "    cor = (0, 255, 0) if a_pressionado else (0, 0, 255)\n",
        "    cv2.circle(frame, (20, 20), 10, cor, -1)\n",
        "\n",
        "    cv2.imshow('Webcam', frame)\n",
        "    out.write(frame)\n",
        "\n",
        "    # Sai com tecla 'q' detectada pelo OpenCV\n",
        "    if cv2.waitKey(1) & 0xFF == ord('q'):\n",
        "        break\n",
        "\n",
        "# Libera tudo\n",
        "cap.release()\n",
        "out.release()\n",
        "cv2.destroyAllWindows()\n",
        "listener.stop()\n"
      ]
    },
    {
      "cell_type": "code",
      "execution_count": null,
      "metadata": {
        "id": "kxe-nOzgvQvI"
      },
      "outputs": [],
      "source": [
        "# O seguinte código utiliza de um observador feito com o MediaPipe para a análise dos videos criados no passo anterior.\n",
        "# Note que foi criado um coletor de dados que só recebe o que o observador envia e salva em um array para criar as tabelas no final.\n",
        "\n",
        "from padroes import abcClasses\n",
        "from observables.observableMediaPipe import ObservableMediaPipe\n",
        "\n",
        "import time\n",
        "import pandas as pd\n",
        "import os\n",
        "\n",
        "class ColetorDados(abcClasses.Observer):\n",
        "\n",
        "    dados = []\n",
        "\n",
        "    def mostrar(self, data):\n",
        "        print(\"\")\n",
        "        print(\"#################\")\n",
        "        print(\"ear: \", data.ear)\n",
        "        print(\"pontos olho:\", data.pontos_olho)\n",
        "        print(\"tempo: \", data.timestamp)\n",
        "        print(\"frame: \", data.frame)\n",
        "        print(\"#################\")\n",
        "        print(\"\")\n",
        "\n",
        "    def update(self, data):\n",
        "\n",
        "        self.dados.append({\n",
        "            \"frame_idx\": data.frame,\n",
        "            \"timestamp\": data.timestamp,\n",
        "            \"ear\": data.ear,\n",
        "            \"pontos_olho\": data.pontos_olho,\n",
        "            \"fps\": 1/ (time.time() - data.inicio),\n",
        "            \"tempo_processamento\": time.time() - data.inicio,\n",
        "            \"piscando\" : data.cor\n",
        "        })\n",
        "\n",
        "    def retorna_dados(self):\n",
        "        return self.dados\n"
      ]
    },
    {
      "cell_type": "code",
      "source": [
        "for video in os.listdir(\"AssistiveDomotical\\\\videos\\\\\"):\n",
        "    dadosMediaPipe = ColetorDados()\n",
        "\n",
        "    caminho_video = \"AssistiveDomotical\\\\videos\\\\\" + video\n",
        "    print(f\"Processando {caminho_video}\")\n",
        "\n",
        "\n",
        "    print(\"\\nProcesso MediaPipe:\")\n",
        "\n",
        "    olhoMediaPipe = ObservableMediaPipe(caminho_video)\n",
        "    olhoMediaPipe.attach(dadosMediaPipe)\n",
        "    olhoMediaPipe.execute()\n",
        "\n",
        "    print(\"Processo MediaPipe Concluido!\")\n",
        "    print(\"Criando Tabela:\")\n",
        "\n",
        "    dfMediaPipe = pd.DataFrame(dadosMediaPipe.retorna_dados())\n",
        "    dfMediaPipe.to_csv(f\"AssistiveDomotical\\\\OSEMN\\\\obtain\\\\tabelasBrutas\\\\{video}MP.csv\", index=False)"
      ],
      "metadata": {
        "id": "szrMKlwVRDnX"
      },
      "execution_count": null,
      "outputs": []
    }
  ],
  "metadata": {
    "colab": {
      "provenance": []
    },
    "kernelspec": {
      "display_name": "Python 3",
      "name": "python3"
    },
    "language_info": {
      "name": "python"
    }
  },
  "nbformat": 4,
  "nbformat_minor": 0
}
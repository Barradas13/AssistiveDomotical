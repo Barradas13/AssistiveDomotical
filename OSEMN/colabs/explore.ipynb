{
  "nbformat": 4,
  "nbformat_minor": 0,
  "metadata": {
    "colab": {
      "provenance": []
    },
    "kernelspec": {
      "name": "python3",
      "display_name": "Python 3"
    },
    "language_info": {
      "name": "python"
    }
  },
  "cells": [
    {
      "cell_type": "code",
      "execution_count": null,
      "metadata": {
        "id": "SEuSno2EvsXM"
      },
      "outputs": [],
      "source": [
        "# Lendo tabela\n",
        "\n",
        "import pandas as pd\n",
        "import matplotlib.pyplot as plt\n",
        "\n",
        "# Leitura e filtro\n",
        "df = pd.read_csv(\"tabela_final.csv\")\n",
        "df = df[(df['frame_global'] > 9790) & (df['frame_global'] < 9820)]\n"
      ]
    },
    {
      "cell_type": "code",
      "source": [
        "# Preparando template do gráfico\n",
        "\n",
        "cores = df['piscando'].map({False: 'red', True: 'green'})\n",
        "\n",
        "plt.figure(figsize=(14, 6))\n",
        "\n",
        "# Scatter plot do EAR\n",
        "plt.scatter(df['timestamp'], df['ear'], c=cores, s=10, alpha=0.8)\n"
      ],
      "metadata": {
        "id": "vOKsXeGiyqNL"
      },
      "execution_count": null,
      "outputs": []
    },
    {
      "cell_type": "code",
      "source": [
        "# Construindo faixa de estado\n",
        "\n",
        "estado_atual = None\n",
        "inicio = None\n",
        "\n",
        "for i, row in df.iterrows():\n",
        "    if row['estado'] != \"nao piscou\":\n",
        "        if estado_atual != row['estado']:\n",
        "            # Começo de um novo estado de piscada\n",
        "            inicio = row['timestamp']\n",
        "            estado_atual = row['estado']\n",
        "    else:\n",
        "        if estado_atual is not None:\n",
        "            # Fim do estado de piscada, desenha faixa\n",
        "            fim = row['timestamp']\n",
        "            cor = 'blue' if estado_atual == 'piscou curto' else 'purple'\n",
        "            plt.axvspan(inicio, fim, color=cor, alpha=0.2)\n",
        "            estado_atual = None\n",
        "            inicio = None\n",
        "\n",
        "# Caso o último frame seja uma piscada\n",
        "if estado_atual is not None and inicio is not None:\n",
        "    fim = df['timestamp'].iloc[-1]\n",
        "    cor = 'blue' if estado_atual == 'piscou curto' else 'purple'\n",
        "    plt.axvspan(inicio, fim, color=cor, alpha=0.2)\n"
      ],
      "metadata": {
        "id": "PfGlAwvSyZYB"
      },
      "execution_count": null,
      "outputs": []
    },
    {
      "cell_type": "code",
      "source": [
        "# Fazendo gráfico\n",
        "\n",
        "plt.title('EAR vs Tempo com piscadas destacadas')\n",
        "plt.xlabel('Tempo (s)')\n",
        "plt.ylabel('EAR')\n",
        "plt.grid(True)\n",
        "plt.tight_layout()\n",
        "plt.show()"
      ],
      "metadata": {
        "id": "psUTE4voyWHJ"
      },
      "execution_count": null,
      "outputs": []
    },
    {
      "cell_type": "code",
      "source": [
        "# Lista de pontos\n",
        "pontos = [(-12, -3), (-9, -2), (-4, 0), (1, 1), (6, 2), (10, 2), (13, 2), (13, 2), (10, 3), (-1, 5), (1, 2), (-4, 1), (-9, -1), (-12, -2), (-7, -1), (0, 0), (6, 1), (-14, -3), (6, 3)]\n",
        "\n",
        "# Separar coordenadas X e Y\n",
        "labels = [398, 384, 385, 386, 387, 388, 466, 249, 390, 477,\n",
        "          374, 380, 381, 382, 476, 473, 474, 362, 373]\n",
        "\n",
        "# Separar coordenadas X e Y\n",
        "x, y = zip(*pontos)\n"
      ],
      "metadata": {
        "id": "TcDxvt-oSV7V"
      },
      "execution_count": null,
      "outputs": []
    },
    {
      "cell_type": "code",
      "source": [
        "# Criar gráfico de dispersão\n",
        "plt.figure(figsize=(6, 6))\n",
        "plt.scatter(x, y, color=\"blue\", marker=\"o\", s=50)"
      ],
      "metadata": {
        "id": "ebc-XtYRSZ4v"
      },
      "execution_count": null,
      "outputs": []
    },
    {
      "cell_type": "code",
      "source": [
        "# Adicionar rótulos em cada ponto\n",
        "for (xi, yi, label) in zip(x, y, labels):\n",
        "    plt.text(xi + 0.3, yi + 0.3, str(label), fontsize=9, color=\"red\")"
      ],
      "metadata": {
        "id": "yxpvt7kVSeY4"
      },
      "execution_count": null,
      "outputs": []
    },
    {
      "cell_type": "code",
      "source": [
        "plt.title(\"Pontos com numeração\")\n",
        "plt.xlabel(\"X\")\n",
        "plt.ylabel(\"Y\")\n",
        "plt.grid(True)\n",
        "plt.axhline(0, color='black', linewidth=0.8)\n",
        "plt.axvline(0, color='black', linewidth=0.8)\n",
        "plt.show()"
      ],
      "metadata": {
        "id": "p-Pr0rfcSfMP"
      },
      "execution_count": null,
      "outputs": []
    }
  ]
}
{
  "nbformat": 4,
  "nbformat_minor": 0,
  "metadata": {
    "colab": {
      "provenance": []
    },
    "kernelspec": {
      "name": "python3",
      "display_name": "Python 3"
    },
    "language_info": {
      "name": "python"
    }
  },
  "cells": [
    {
      "cell_type": "code",
      "execution_count": null,
      "metadata": {
        "id": "SEuSno2EvsXM"
      },
      "outputs": [],
      "source": [
        "# Lendo tabela\n",
        "\n",
        "import pandas as pd\n",
        "import matplotlib.pyplot as plt\n",
        "\n",
        "# Leitura e filtro\n",
        "df = pd.read_csv(\"tabela_final.csv\")\n",
        "df = df[(df['frame_global'] > 9790) & (df['frame_global'] < 9820)]\n"
      ]
    },
    {
      "cell_type": "code",
      "source": [
        "# Preparando template do gráfico\n",
        "\n",
        "cores = df['piscando'].map({False: 'red', True: 'green'})\n",
        "\n",
        "plt.figure(figsize=(14, 6))\n",
        "\n",
        "# Scatter plot do EAR\n",
        "plt.scatter(df['timestamp'], df['ear'], c=cores, s=10, alpha=0.8)\n"
      ],
      "metadata": {
        "id": "vOKsXeGiyqNL"
      },
      "execution_count": null,
      "outputs": []
    },
    {
      "cell_type": "code",
      "source": [
        "# Construindo faixa de estado\n",
        "\n",
        "estado_atual = None\n",
        "inicio = None\n",
        "\n",
        "for i, row in df.iterrows():\n",
        "    if row['estado'] != \"nao piscou\":\n",
        "        if estado_atual != row['estado']:\n",
        "            # Começo de um novo estado de piscada\n",
        "            inicio = row['timestamp']\n",
        "            estado_atual = row['estado']\n",
        "    else:\n",
        "        if estado_atual is not None:\n",
        "            # Fim do estado de piscada, desenha faixa\n",
        "            fim = row['timestamp']\n",
        "            cor = 'blue' if estado_atual == 'piscou curto' else 'purple'\n",
        "            plt.axvspan(inicio, fim, color=cor, alpha=0.2)\n",
        "            estado_atual = None\n",
        "            inicio = None\n",
        "\n",
        "# Caso o último frame seja uma piscada\n",
        "if estado_atual is not None and inicio is not None:\n",
        "    fim = df['timestamp'].iloc[-1]\n",
        "    cor = 'blue' if estado_atual == 'piscou curto' else 'purple'\n",
        "    plt.axvspan(inicio, fim, color=cor, alpha=0.2)\n"
      ],
      "metadata": {
        "id": "PfGlAwvSyZYB"
      },
      "execution_count": null,
      "outputs": []
    },
    {
      "cell_type": "code",
      "source": [
        "# Fazendo gráfico\n",
        "\n",
        "plt.title('EAR vs Tempo com piscadas destacadas')\n",
        "plt.xlabel('Tempo (s)')\n",
        "plt.ylabel('EAR')\n",
        "plt.grid(True)\n",
        "plt.tight_layout()\n",
        "plt.show()"
      ],
      "metadata": {
        "id": "psUTE4voyWHJ"
      },
      "execution_count": null,
      "outputs": []
    }
  ]
}
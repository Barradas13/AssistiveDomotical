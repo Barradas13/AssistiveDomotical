{
  "cells": [
    {
      "cell_type": "code",
      "execution_count": null,
      "metadata": {
        "id": "M-Ehf_V1vn_V"
      },
      "outputs": [],
      "source": [
        "# Pegando tabela\n",
        "\n",
        "import pandas as pd\n",
        "import numpy as np\n",
        "import matplotlib.pyplot as plt\n",
        "import seaborn as sns\n",
        "\n",
        "df = pd.read_csv(\"AssistiveDomotical\\\\OSEMN\\\\obtain\\\\tabela_com_estado.csv\")\n"
      ]
    },
    {
      "cell_type": "code",
      "execution_count": null,
      "metadata": {
        "id": "vKyVWDwUxfoi"
      },
      "outputs": [],
      "source": [
        "# Verificando nulos e padronizando EAR para NaN quando não teve posições para calcular\n",
        "\n",
        "linhas_nulas = df[df[\"pontos_olho\"].isna()]\n",
        "\n",
        "df.loc[df[\"pontos_olho\"].isna(), \"ear\"] = np.nan\n",
        "\n",
        "print(df.isnull().sum())"
      ]
    },
    {
      "cell_type": "code",
      "execution_count": null,
      "metadata": {
        "id": "niX8qo2zxwU7"
      },
      "outputs": [],
      "source": [
        "# Tratando nulos colocando o valor anterior ou posterior\n",
        "\n",
        "df[\"pontos_olho\"] = df[\"pontos_olho\"].fillna(method=\"ffill\")\n",
        "\n",
        "df[\"pontos_olho\"] = df[\"pontos_olho\"].fillna(method=\"bfill\")\n",
        "\n",
        "\n",
        "df[\"ear\"] = df[\"ear\"].fillna(method=\"ffill\")\n",
        "\n",
        "df[\"ear\"] = df[\"ear\"].fillna(method=\"bfill\")"
      ]
    },
    {
      "cell_type": "code",
      "execution_count": null,
      "metadata": {
        "id": "4DI767PGxH5B"
      },
      "outputs": [],
      "source": [
        "# Verificando OUTLIERS\n",
        "\n",
        "plt.figure(figsize=(4,5))\n",
        "sns.boxplot(y=df['ear'])\n",
        "plt.title('Boxplot das Ear - Identificação de Outliers')\n",
        "plt.xlabel('ear')\n",
        "plt.show()"
      ]
    },
    {
      "cell_type": "code",
      "execution_count": null,
      "metadata": {
        "id": "Cc_ER4PKxZ3A"
      },
      "outputs": [],
      "source": [
        "# Tratando fora dos limites\n",
        "\n",
        "l_s = 35\n",
        "l_i = 0\n",
        "\n",
        "df.loc[df[\"ear\"] > l_s, \"ear\"] = l_s\n",
        "df.loc[df[\"ear\"] < l_i, \"ear\"] = l_i"
      ]
    },
    {
      "cell_type": "code",
      "execution_count": null,
      "metadata": {
        "id": "9C5rQ9TuxQSo"
      },
      "outputs": [],
      "source": [
        "# Tabela pós tratamento\n",
        "\n",
        "plt.figure(figsize=(4,5))\n",
        "sns.boxplot(y=df['ear'])\n",
        "plt.title('Boxplot das Ear - Identificação de Outliers')\n",
        "plt.xlabel('ear')\n",
        "plt.show()"
      ]
    },
    {
      "cell_type": "code",
      "source": [
        "def calcula_novo_ponto(ponto_base, ponto_antigo):\n",
        "    ponto_novo = (ponto_antigo[0] - ponto_base[0], ponto_antigo[1] - ponto_base[1])\n",
        "\n",
        "    return ponto_novo"
      ],
      "metadata": {
        "id": "66mH_2UJSNuN"
      },
      "execution_count": null,
      "outputs": []
    },
    {
      "cell_type": "code",
      "source": [
        "for i in range(0, len(df) - 4, 5):\n",
        "        janela = df.iloc[i:i+5]\n",
        "        ears = janela[\"ear\"].values\n",
        "        piscando_vals = janela[\"piscando\"].values\n",
        "\n",
        "        for j in ears:\n",
        "            if pd.isna(j):\n",
        "                continue\n",
        "\n",
        "        novo = {\n",
        "            \"ear1\": ears[0],\n",
        "            \"ear2\": ears[1],\n",
        "            \"ear3\": ears[2],\n",
        "            \"ear4\": ears[3],\n",
        "            \"ear5\": ears[4],\n",
        "        }\n",
        "\n",
        "        novo[\"id\"] = tabela\n",
        "\n",
        "        if list(piscando_vals).count(\"vermelho\") >= 4:\n",
        "            novo[\"piscando\"] = False\n",
        "        elif list(piscando_vals).count(\"verde\") >= 4:\n",
        "            novo[\"piscando\"] = True\n",
        "        else:\n",
        "            continue\n",
        "\n",
        "        j = 1\n",
        "\n",
        "        for frame in janela[\"pontos_olho\"].values:\n",
        "            pontos_olhos = []\n",
        "\n",
        "            frame = ast.literal_eval(frame)\n",
        "\n",
        "            for ponto in frame:\n",
        "\n",
        "                pb = frame[15]\n",
        "\n",
        "                pontos_olhos.append(calcula_novo_ponto(pb, ponto))\n",
        "            novo[f\"pontos_olhos {j}\"] = pontos_olhos\n",
        "            j += 1\n",
        "\n",
        "        resultados.append(novo)\n",
        "\n",
        "\n",
        "    df_final = pd.DataFrame(resultados)\n",
        "    df_final.to_csv(f\"/home/barradas/Downloads/AssistiveDomotical/OSEMN/scrub/tabelas_pessoa_pos_tratamento/{tabela}\")"
      ],
      "metadata": {
        "id": "brbWNbPtSBOq"
      },
      "execution_count": null,
      "outputs": []
    }
  ],
  "metadata": {
    "colab": {
      "provenance": []
    },
    "kernelspec": {
      "display_name": "Python 3",
      "name": "python3"
    },
    "language_info": {
      "name": "python"
    }
  },
  "nbformat": 4,
  "nbformat_minor": 0
}